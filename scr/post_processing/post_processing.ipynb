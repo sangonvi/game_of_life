{
 "cells": [
  {
   "cell_type": "code",
   "execution_count": 1,
   "metadata": {},
   "outputs": [
    {
     "name": "stdout",
     "output_type": "stream",
     "text": [
      "      MPI   0.0749; 160; 160; 20; 4\n",
      "0  SERIAL   0.0237; 160; 160; 20; 0\n",
      "1     MPI    0.0342; 40; 40; 100; 4\n",
      "2  SERIAL    0.0014; 40; 40; 100; 0\n",
      "3     MPI    0.0144; 40; 40; 100; 1\n",
      "4     MPI  0.0836; 100; 100; 100; 1\n",
      "5  SERIAL  0.0077; 100; 100; 100; 0\n",
      "6  SERIAL  0.0083; 100; 100; 100; 0\n",
      "7     MPI  0.1672; 100; 100; 100; 4\n",
      "8  SERIAL  0.0078; 100; 100; 100; 0\n"
     ]
    }
   ],
   "source": [
    "import pandas as pd\n",
    "\n",
    "df = pd.read_csv('../report.csv')\n",
    "\n",
    "mpi_df = df[]\n",
    "print(df)"
   ]
  }
 ],
 "metadata": {
  "kernelspec": {
   "display_name": "Python 3",
   "language": "python",
   "name": "python3"
  },
  "language_info": {
   "codemirror_mode": {
    "name": "ipython",
    "version": 3
   },
   "file_extension": ".py",
   "mimetype": "text/x-python",
   "name": "python",
   "nbconvert_exporter": "python",
   "pygments_lexer": "ipython3",
   "version": "3.12.0"
  }
 },
 "nbformat": 4,
 "nbformat_minor": 2
}
